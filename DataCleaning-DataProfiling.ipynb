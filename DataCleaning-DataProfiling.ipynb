{
 "cells": [
  {
   "cell_type": "code",
   "execution_count": 1,
   "id": "a4b5ddd3",
   "metadata": {},
   "outputs": [],
   "source": [
    "import pandas as pd\n",
    "import pandas_profiling"
   ]
  },
  {
   "cell_type": "code",
   "execution_count": 58,
   "id": "70e4597c",
   "metadata": {},
   "outputs": [],
   "source": [
    "pg_df = pd.read_csv('.\\Data\\Postsecondary_graduates_canada.csv')"
   ]
  },
  {
   "cell_type": "markdown",
   "id": "f2e91347",
   "metadata": {},
   "source": [
    "# Data Cleaning"
   ]
  },
  {
   "cell_type": "code",
   "execution_count": 59,
   "id": "79c23b6f",
   "metadata": {},
   "outputs": [
    {
     "data": {
      "text/html": [
       "<div>\n",
       "<style scoped>\n",
       "    .dataframe tbody tr th:only-of-type {\n",
       "        vertical-align: middle;\n",
       "    }\n",
       "\n",
       "    .dataframe tbody tr th {\n",
       "        vertical-align: top;\n",
       "    }\n",
       "\n",
       "    .dataframe thead th {\n",
       "        text-align: right;\n",
       "    }\n",
       "</style>\n",
       "<table border=\"1\" class=\"dataframe\">\n",
       "  <thead>\n",
       "    <tr style=\"text-align: right;\">\n",
       "      <th></th>\n",
       "      <th>REF_DATE</th>\n",
       "      <th>GEO</th>\n",
       "      <th>DGUID</th>\n",
       "      <th>Level of study</th>\n",
       "      <th>Statistics</th>\n",
       "      <th>UOM</th>\n",
       "      <th>UOM_ID</th>\n",
       "      <th>SCALAR_FACTOR</th>\n",
       "      <th>SCALAR_ID</th>\n",
       "      <th>VECTOR</th>\n",
       "      <th>COORDINATE</th>\n",
       "      <th>VALUE</th>\n",
       "      <th>STATUS</th>\n",
       "      <th>SYMBOL</th>\n",
       "      <th>TERMINATED</th>\n",
       "      <th>DECIMALS</th>\n",
       "    </tr>\n",
       "  </thead>\n",
       "  <tbody>\n",
       "    <tr>\n",
       "      <th>0</th>\n",
       "      <td>2000</td>\n",
       "      <td>Canada</td>\n",
       "      <td>2016A000011124</td>\n",
       "      <td>College</td>\n",
       "      <td>Number of graduates</td>\n",
       "      <td>Number</td>\n",
       "      <td>223</td>\n",
       "      <td>units</td>\n",
       "      <td>0</td>\n",
       "      <td>v90469943</td>\n",
       "      <td>1.1.1</td>\n",
       "      <td>101400.0</td>\n",
       "      <td>NaN</td>\n",
       "      <td>NaN</td>\n",
       "      <td>NaN</td>\n",
       "      <td>0</td>\n",
       "    </tr>\n",
       "    <tr>\n",
       "      <th>1</th>\n",
       "      <td>2000</td>\n",
       "      <td>Canada</td>\n",
       "      <td>2016A000011124</td>\n",
       "      <td>College</td>\n",
       "      <td>Females</td>\n",
       "      <td>Percent</td>\n",
       "      <td>239</td>\n",
       "      <td>units</td>\n",
       "      <td>0</td>\n",
       "      <td>v90469944</td>\n",
       "      <td>1.1.2</td>\n",
       "      <td>57.0</td>\n",
       "      <td>NaN</td>\n",
       "      <td>NaN</td>\n",
       "      <td>NaN</td>\n",
       "      <td>0</td>\n",
       "    </tr>\n",
       "    <tr>\n",
       "      <th>2</th>\n",
       "      <td>2000</td>\n",
       "      <td>Canada</td>\n",
       "      <td>2016A000011124</td>\n",
       "      <td>College</td>\n",
       "      <td>Average age at graduation</td>\n",
       "      <td>Years</td>\n",
       "      <td>308</td>\n",
       "      <td>units</td>\n",
       "      <td>0</td>\n",
       "      <td>v90469945</td>\n",
       "      <td>1.1.3</td>\n",
       "      <td>27.0</td>\n",
       "      <td>NaN</td>\n",
       "      <td>NaN</td>\n",
       "      <td>NaN</td>\n",
       "      <td>0</td>\n",
       "    </tr>\n",
       "  </tbody>\n",
       "</table>\n",
       "</div>"
      ],
      "text/plain": [
       "   REF_DATE     GEO           DGUID Level of study                 Statistics  \\\n",
       "0      2000  Canada  2016A000011124        College        Number of graduates   \n",
       "1      2000  Canada  2016A000011124        College                    Females   \n",
       "2      2000  Canada  2016A000011124        College  Average age at graduation   \n",
       "\n",
       "       UOM  UOM_ID SCALAR_FACTOR  SCALAR_ID     VECTOR COORDINATE     VALUE  \\\n",
       "0   Number     223        units           0  v90469943      1.1.1  101400.0   \n",
       "1  Percent     239        units           0  v90469944      1.1.2      57.0   \n",
       "2    Years     308        units           0  v90469945      1.1.3      27.0   \n",
       "\n",
       "  STATUS  SYMBOL  TERMINATED  DECIMALS  \n",
       "0    NaN     NaN         NaN         0  \n",
       "1    NaN     NaN         NaN         0  \n",
       "2    NaN     NaN         NaN         0  "
      ]
     },
     "execution_count": 59,
     "metadata": {},
     "output_type": "execute_result"
    }
   ],
   "source": [
    "pg_df.head(3)"
   ]
  },
  {
   "cell_type": "code",
   "execution_count": 60,
   "id": "297310ac",
   "metadata": {},
   "outputs": [
    {
     "name": "stdout",
     "output_type": "stream",
     "text": [
      "The dataframe has 1056 rows and 16 columns\n"
     ]
    }
   ],
   "source": [
    "shape = pg_df.shape\n",
    "print(\"The dataframe has {0} rows and {1} columns\".format(shape[0],shape[1]))"
   ]
  },
  {
   "cell_type": "code",
   "execution_count": 61,
   "id": "c30e635a",
   "metadata": {},
   "outputs": [
    {
     "data": {
      "text/plain": [
       "SYMBOL            1056\n",
       "TERMINATED        1056\n",
       "STATUS             828\n",
       "VALUE               80\n",
       "REF_DATE             0\n",
       "GEO                  0\n",
       "DGUID                0\n",
       "Level of study       0\n",
       "Statistics           0\n",
       "UOM                  0\n",
       "UOM_ID               0\n",
       "SCALAR_FACTOR        0\n",
       "SCALAR_ID            0\n",
       "VECTOR               0\n",
       "COORDINATE           0\n",
       "DECIMALS             0\n",
       "dtype: int64"
      ]
     },
     "execution_count": 61,
     "metadata": {},
     "output_type": "execute_result"
    }
   ],
   "source": [
    "pg_df.isna().sum().sort_values(ascending = False)"
   ]
  },
  {
   "cell_type": "code",
   "execution_count": 62,
   "id": "5970f7c4",
   "metadata": {},
   "outputs": [],
   "source": [
    "drop_cols = ['SYMBOL','TERMINATED','STATUS']"
   ]
  },
  {
   "cell_type": "code",
   "execution_count": 63,
   "id": "1aaff728",
   "metadata": {},
   "outputs": [],
   "source": [
    "pg_df.drop(drop_cols, axis = 1, inplace = True)"
   ]
  },
  {
   "cell_type": "code",
   "execution_count": 64,
   "id": "58791961",
   "metadata": {},
   "outputs": [
    {
     "name": "stdout",
     "output_type": "stream",
     "text": [
      "The dataframe has 1056 rows and 13 columns\n"
     ]
    }
   ],
   "source": [
    "shape = pg_df.shape\n",
    "print(\"The dataframe has {0} rows and {1} columns\".format(shape[0],shape[1]))"
   ]
  },
  {
   "cell_type": "code",
   "execution_count": 65,
   "id": "e6ed4978",
   "metadata": {},
   "outputs": [
    {
     "name": "stdout",
     "output_type": "stream",
     "text": [
      "<class 'pandas.core.frame.DataFrame'>\n",
      "RangeIndex: 1056 entries, 0 to 1055\n",
      "Data columns (total 13 columns):\n",
      " #   Column          Non-Null Count  Dtype  \n",
      "---  ------          --------------  -----  \n",
      " 0   REF_DATE        1056 non-null   int64  \n",
      " 1   GEO             1056 non-null   object \n",
      " 2   DGUID           1056 non-null   object \n",
      " 3   Level of study  1056 non-null   object \n",
      " 4   Statistics      1056 non-null   object \n",
      " 5   UOM             1056 non-null   object \n",
      " 6   UOM_ID          1056 non-null   int64  \n",
      " 7   SCALAR_FACTOR   1056 non-null   object \n",
      " 8   SCALAR_ID       1056 non-null   int64  \n",
      " 9   VECTOR          1056 non-null   object \n",
      " 10  COORDINATE      1056 non-null   object \n",
      " 11  VALUE           976 non-null    float64\n",
      " 12  DECIMALS        1056 non-null   int64  \n",
      "dtypes: float64(1), int64(4), object(8)\n",
      "memory usage: 107.4+ KB\n"
     ]
    }
   ],
   "source": [
    "pg_df.info()"
   ]
  },
  {
   "cell_type": "markdown",
   "id": "32f6542f",
   "metadata": {},
   "source": [
    "### As value is a numeric field, replacing the NaN as 0"
   ]
  },
  {
   "cell_type": "code",
   "execution_count": 66,
   "id": "d23229a8",
   "metadata": {},
   "outputs": [],
   "source": [
    "pg_df.VALUE.fillna(0, inplace = True)"
   ]
  },
  {
   "cell_type": "code",
   "execution_count": 67,
   "id": "858f5a5d",
   "metadata": {},
   "outputs": [
    {
     "data": {
      "text/plain": [
       "REF_DATE          0\n",
       "GEO               0\n",
       "DGUID             0\n",
       "Level of study    0\n",
       "Statistics        0\n",
       "UOM               0\n",
       "UOM_ID            0\n",
       "SCALAR_FACTOR     0\n",
       "SCALAR_ID         0\n",
       "VECTOR            0\n",
       "COORDINATE        0\n",
       "VALUE             0\n",
       "DECIMALS          0\n",
       "dtype: int64"
      ]
     },
     "execution_count": 67,
     "metadata": {},
     "output_type": "execute_result"
    }
   ],
   "source": [
    "pg_df.isna().sum().sort_values(ascending = False)"
   ]
  },
  {
   "cell_type": "code",
   "execution_count": 68,
   "id": "6e9b3263",
   "metadata": {},
   "outputs": [
    {
     "data": {
      "text/html": [
       "<div>\n",
       "<style scoped>\n",
       "    .dataframe tbody tr th:only-of-type {\n",
       "        vertical-align: middle;\n",
       "    }\n",
       "\n",
       "    .dataframe tbody tr th {\n",
       "        vertical-align: top;\n",
       "    }\n",
       "\n",
       "    .dataframe thead th {\n",
       "        text-align: right;\n",
       "    }\n",
       "</style>\n",
       "<table border=\"1\" class=\"dataframe\">\n",
       "  <thead>\n",
       "    <tr style=\"text-align: right;\">\n",
       "      <th></th>\n",
       "      <th>REF_DATE</th>\n",
       "      <th>GEO</th>\n",
       "      <th>DGUID</th>\n",
       "      <th>Level of study</th>\n",
       "      <th>Statistics</th>\n",
       "      <th>UOM</th>\n",
       "      <th>UOM_ID</th>\n",
       "      <th>SCALAR_FACTOR</th>\n",
       "      <th>SCALAR_ID</th>\n",
       "      <th>VECTOR</th>\n",
       "      <th>COORDINATE</th>\n",
       "      <th>VALUE</th>\n",
       "      <th>DECIMALS</th>\n",
       "    </tr>\n",
       "  </thead>\n",
       "  <tbody>\n",
       "    <tr>\n",
       "      <th>0</th>\n",
       "      <td>2000</td>\n",
       "      <td>Canada</td>\n",
       "      <td>2016A000011124</td>\n",
       "      <td>College</td>\n",
       "      <td>Number of graduates</td>\n",
       "      <td>Number</td>\n",
       "      <td>223</td>\n",
       "      <td>units</td>\n",
       "      <td>0</td>\n",
       "      <td>v90469943</td>\n",
       "      <td>1.1.1</td>\n",
       "      <td>101400.0</td>\n",
       "      <td>0</td>\n",
       "    </tr>\n",
       "    <tr>\n",
       "      <th>1</th>\n",
       "      <td>2000</td>\n",
       "      <td>Canada</td>\n",
       "      <td>2016A000011124</td>\n",
       "      <td>College</td>\n",
       "      <td>Females</td>\n",
       "      <td>Percent</td>\n",
       "      <td>239</td>\n",
       "      <td>units</td>\n",
       "      <td>0</td>\n",
       "      <td>v90469944</td>\n",
       "      <td>1.1.2</td>\n",
       "      <td>57.0</td>\n",
       "      <td>0</td>\n",
       "    </tr>\n",
       "  </tbody>\n",
       "</table>\n",
       "</div>"
      ],
      "text/plain": [
       "   REF_DATE     GEO           DGUID Level of study           Statistics  \\\n",
       "0      2000  Canada  2016A000011124        College  Number of graduates   \n",
       "1      2000  Canada  2016A000011124        College              Females   \n",
       "\n",
       "       UOM  UOM_ID SCALAR_FACTOR  SCALAR_ID     VECTOR COORDINATE     VALUE  \\\n",
       "0   Number     223        units           0  v90469943      1.1.1  101400.0   \n",
       "1  Percent     239        units           0  v90469944      1.1.2      57.0   \n",
       "\n",
       "   DECIMALS  \n",
       "0         0  \n",
       "1         0  "
      ]
     },
     "execution_count": 68,
     "metadata": {},
     "output_type": "execute_result"
    }
   ],
   "source": [
    "pg_df.head(2)"
   ]
  },
  {
   "cell_type": "markdown",
   "id": "3b483b2a",
   "metadata": {},
   "source": [
    "### For our analysis, UOM_ID, Scalar_ID, Vector, Co-ordinate and Decimals are not required, hence removing them"
   ]
  },
  {
   "cell_type": "code",
   "execution_count": 69,
   "id": "741027dd",
   "metadata": {},
   "outputs": [],
   "source": [
    "drop_cols = ['UOM_ID','SCALAR_FACTOR','SCALAR_ID','VECTOR','COORDINATE','DECIMALS']\n",
    "pg_df.drop(drop_cols, axis = 1, inplace = True)"
   ]
  },
  {
   "cell_type": "code",
   "execution_count": 70,
   "id": "8d0850cc",
   "metadata": {},
   "outputs": [
    {
     "data": {
      "text/html": [
       "<div>\n",
       "<style scoped>\n",
       "    .dataframe tbody tr th:only-of-type {\n",
       "        vertical-align: middle;\n",
       "    }\n",
       "\n",
       "    .dataframe tbody tr th {\n",
       "        vertical-align: top;\n",
       "    }\n",
       "\n",
       "    .dataframe thead th {\n",
       "        text-align: right;\n",
       "    }\n",
       "</style>\n",
       "<table border=\"1\" class=\"dataframe\">\n",
       "  <thead>\n",
       "    <tr style=\"text-align: right;\">\n",
       "      <th></th>\n",
       "      <th>REF_DATE</th>\n",
       "      <th>GEO</th>\n",
       "      <th>DGUID</th>\n",
       "      <th>Level of study</th>\n",
       "      <th>Statistics</th>\n",
       "      <th>UOM</th>\n",
       "      <th>VALUE</th>\n",
       "    </tr>\n",
       "  </thead>\n",
       "  <tbody>\n",
       "    <tr>\n",
       "      <th>0</th>\n",
       "      <td>2000</td>\n",
       "      <td>Canada</td>\n",
       "      <td>2016A000011124</td>\n",
       "      <td>College</td>\n",
       "      <td>Number of graduates</td>\n",
       "      <td>Number</td>\n",
       "      <td>101400.0</td>\n",
       "    </tr>\n",
       "    <tr>\n",
       "      <th>1</th>\n",
       "      <td>2000</td>\n",
       "      <td>Canada</td>\n",
       "      <td>2016A000011124</td>\n",
       "      <td>College</td>\n",
       "      <td>Females</td>\n",
       "      <td>Percent</td>\n",
       "      <td>57.0</td>\n",
       "    </tr>\n",
       "  </tbody>\n",
       "</table>\n",
       "</div>"
      ],
      "text/plain": [
       "   REF_DATE     GEO           DGUID Level of study           Statistics  \\\n",
       "0      2000  Canada  2016A000011124        College  Number of graduates   \n",
       "1      2000  Canada  2016A000011124        College              Females   \n",
       "\n",
       "       UOM     VALUE  \n",
       "0   Number  101400.0  \n",
       "1  Percent      57.0  "
      ]
     },
     "execution_count": 70,
     "metadata": {},
     "output_type": "execute_result"
    }
   ],
   "source": [
    "pg_df.head(2)"
   ]
  },
  {
   "cell_type": "markdown",
   "id": "c8b655d8",
   "metadata": {},
   "source": [
    "### Renaming the columns for our better understanding"
   ]
  },
  {
   "cell_type": "code",
   "execution_count": 71,
   "id": "7a2f4dc0",
   "metadata": {},
   "outputs": [],
   "source": [
    "def capitalize(col):\n",
    "    return col.capitalize()\n",
    "def trimSpaces(col):\n",
    "    return col.replace(\" \",\"\")"
   ]
  },
  {
   "cell_type": "code",
   "execution_count": 72,
   "id": "27365ca0",
   "metadata": {},
   "outputs": [],
   "source": [
    "pg_df.columns = pg_df.columns.to_series().apply(capitalize)"
   ]
  },
  {
   "cell_type": "code",
   "execution_count": 73,
   "id": "7ca9b5f7",
   "metadata": {},
   "outputs": [],
   "source": [
    "pg_df.columns = pg_df.columns.to_series().apply(trimSpaces)"
   ]
  },
  {
   "cell_type": "code",
   "execution_count": 74,
   "id": "889c7bfd",
   "metadata": {},
   "outputs": [
    {
     "data": {
      "text/plain": [
       "Index(['Ref_date', 'Geo', 'Dguid', 'Levelofstudy', 'Statistics', 'Uom',\n",
       "       'Value'],\n",
       "      dtype='object')"
      ]
     },
     "execution_count": 74,
     "metadata": {},
     "output_type": "execute_result"
    }
   ],
   "source": [
    "pg_df.columns"
   ]
  },
  {
   "cell_type": "code",
   "execution_count": 75,
   "id": "aab3001f",
   "metadata": {},
   "outputs": [],
   "source": [
    "pg_df = pg_df.rename(columns={\"Ref_date\":\"Year\",\n",
    "                               \"Geo\":\"Province_of_Study\",\n",
    "                               \"Uom\":\"Unit_of_measure\"})"
   ]
  },
  {
   "cell_type": "code",
   "execution_count": 76,
   "id": "e4e38036",
   "metadata": {},
   "outputs": [
    {
     "name": "stdout",
     "output_type": "stream",
     "text": [
      "Basic Summary of the data\n",
      "===========================================================\n",
      "The dataframe has 1056 rows and 7 columns\n",
      "===========================================================\n",
      "Datatype\n",
      "<class 'pandas.core.frame.DataFrame'>\n",
      "RangeIndex: 1056 entries, 0 to 1055\n",
      "Data columns (total 7 columns):\n",
      " #   Column             Non-Null Count  Dtype  \n",
      "---  ------             --------------  -----  \n",
      " 0   Year               1056 non-null   int64  \n",
      " 1   Province_of_Study  1056 non-null   object \n",
      " 2   Dguid              1056 non-null   object \n",
      " 3   Levelofstudy       1056 non-null   object \n",
      " 4   Statistics         1056 non-null   object \n",
      " 5   Unit_of_measure    1056 non-null   object \n",
      " 6   Value              1056 non-null   float64\n",
      "dtypes: float64(1), int64(1), object(5)\n",
      "memory usage: 57.9+ KB\n",
      "===========================================================\n",
      "Numeric Column Description\n",
      "              Year          Value\n",
      "count  1056.000000    1056.000000\n",
      "mean   2007.500000    2642.929924\n",
      "std       5.592819   14988.063309\n",
      "min    2000.000000       0.000000\n",
      "25%    2003.750000      24.000000\n",
      "50%    2007.500000      34.000000\n",
      "75%    2011.250000      60.000000\n",
      "max    2015.000000  203800.000000\n",
      "===========================================================\n",
      "Categorical Column Description\n",
      "       Province_of_Study        Dguid Levelofstudy  \\\n",
      "count               1056         1056         1056   \n",
      "unique                11           11            4   \n",
      "top               Canada  2016A000246   Bachelor's   \n",
      "freq                  96           96          264   \n",
      "\n",
      "                        Statistics Unit_of_measure  \n",
      "count                         1056            1056  \n",
      "unique                           6               3  \n",
      "top     Under age 25 at graduation         Percent  \n",
      "freq                           176             528  \n"
     ]
    }
   ],
   "source": [
    "print(\"Basic Summary of the data\")\n",
    "print(\"===========================================================\")\n",
    "shape = pg_df.shape\n",
    "print(\"The dataframe has {0} rows and {1} columns\".format(shape[0],shape[1]))\n",
    "print(\"===========================================================\")\n",
    "print(\"Datatype\")\n",
    "pg_df.info()\n",
    "print(\"===========================================================\")\n",
    "print('Numeric Column Description')\n",
    "print(pg_df.describe())\n",
    "print(\"===========================================================\")\n",
    "print('Categorical Column Description')\n",
    "print(pg_df.describe(include='O'))"
   ]
  },
  {
   "cell_type": "markdown",
   "id": "09c4aaad",
   "metadata": {},
   "source": [
    "# Data Profiling"
   ]
  },
  {
   "cell_type": "code",
   "execution_count": 77,
   "id": "e43be32e",
   "metadata": {},
   "outputs": [],
   "source": [
    "profile = pg_df.profile_report(title='Canada Postsecondary Graduates Profiling Report')"
   ]
  },
  {
   "cell_type": "code",
   "execution_count": 78,
   "id": "0f9c7819",
   "metadata": {},
   "outputs": [
    {
     "data": {
      "application/vnd.jupyter.widget-view+json": {
       "model_id": "36c47580029741518f02a4f636682d6a",
       "version_major": 2,
       "version_minor": 0
      },
      "text/plain": [
       "Summarize dataset:   0%|          | 0/5 [00:00<?, ?it/s]"
      ]
     },
     "metadata": {},
     "output_type": "display_data"
    },
    {
     "data": {
      "application/vnd.jupyter.widget-view+json": {
       "model_id": "b49452094d4e4d568ac6f006a025c745",
       "version_major": 2,
       "version_minor": 0
      },
      "text/plain": [
       "Generate report structure:   0%|          | 0/1 [00:00<?, ?it/s]"
      ]
     },
     "metadata": {},
     "output_type": "display_data"
    },
    {
     "data": {
      "application/vnd.jupyter.widget-view+json": {
       "model_id": "ed852a4f6327456ba4252e2b2a585fbe",
       "version_major": 2,
       "version_minor": 0
      },
      "text/plain": [
       "Render HTML:   0%|          | 0/1 [00:00<?, ?it/s]"
      ]
     },
     "metadata": {},
     "output_type": "display_data"
    },
    {
     "data": {
      "application/vnd.jupyter.widget-view+json": {
       "model_id": "30751a6643b64e819d03233b1a9aa0e3",
       "version_major": 2,
       "version_minor": 0
      },
      "text/plain": [
       "Export report to file:   0%|          | 0/1 [00:00<?, ?it/s]"
      ]
     },
     "metadata": {},
     "output_type": "display_data"
    }
   ],
   "source": [
    "profile.to_file(output_file=\"Canada_PSG.html\")"
   ]
  },
  {
   "cell_type": "code",
   "execution_count": null,
   "id": "460fe753",
   "metadata": {},
   "outputs": [],
   "source": []
  }
 ],
 "metadata": {
  "kernelspec": {
   "display_name": "Python 3",
   "language": "python",
   "name": "python3"
  },
  "language_info": {
   "codemirror_mode": {
    "name": "ipython",
    "version": 3
   },
   "file_extension": ".py",
   "mimetype": "text/x-python",
   "name": "python",
   "nbconvert_exporter": "python",
   "pygments_lexer": "ipython3",
   "version": "3.8.8"
  }
 },
 "nbformat": 4,
 "nbformat_minor": 5
}
